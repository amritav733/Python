{
  "nbformat": 4,
  "nbformat_minor": 0,
  "metadata": {
    "colab": {
      "provenance": [],
      "authorship_tag": "ABX9TyM+8mmVLeEGf+u8M+qXJ3AY",
      "include_colab_link": true
    },
    "kernelspec": {
      "name": "python3",
      "display_name": "Python 3"
    },
    "language_info": {
      "name": "python"
    }
  },
  "cells": [
    {
      "cell_type": "markdown",
      "metadata": {
        "id": "view-in-github",
        "colab_type": "text"
      },
      "source": [
        "<a href=\"https://colab.research.google.com/github/amritav733/Python/blob/main/NB1.ipynb\" target=\"_parent\"><img src=\"https://colab.research.google.com/assets/colab-badge.svg\" alt=\"Open In Colab\"/></a>"
      ]
    },
    {
      "cell_type": "code",
      "execution_count": null,
      "metadata": {
        "colab": {
          "base_uri": "https://localhost:8080/"
        },
        "id": "4p0NKTWpX81T",
        "outputId": "8ff178a2-1e5e-452b-c18c-673ebed5bbd6"
      },
      "outputs": [
        {
          "output_type": "stream",
          "name": "stdout",
          "text": [
            "Hello, This is my first Python notebook.\n"
          ]
        }
      ],
      "source": [
        "print(\"Hello, This is my first Python notebook.\")"
      ]
    },
    {
      "cell_type": "code",
      "source": [
        "print(\"My brother's name is Dr.Harsh Kasyap and he just got married in Feb\")"
      ],
      "metadata": {
        "colab": {
          "base_uri": "https://localhost:8080/"
        },
        "id": "U1kkqifjbwN5",
        "outputId": "000f293e-384e-48f6-c9e5-f360367fece1"
      },
      "execution_count": null,
      "outputs": [
        {
          "output_type": "stream",
          "name": "stdout",
          "text": [
            "My brother's name is Dr.Harsh Kasyap and he just got married in Feb\n"
          ]
        }
      ]
    },
    {
      "cell_type": "code",
      "source": [
        "print(\"He got married on 7th Feb\")"
      ],
      "metadata": {
        "id": "H9oKsl-cdHwd",
        "outputId": "46f29dc0-8282-4f90-fa6a-f5aac96cb518",
        "colab": {
          "base_uri": "https://localhost:8080/"
        }
      },
      "execution_count": 1,
      "outputs": [
        {
          "output_type": "stream",
          "name": "stdout",
          "text": [
            "He got married on 7th Feb\n"
          ]
        }
      ]
    }
  ]
}