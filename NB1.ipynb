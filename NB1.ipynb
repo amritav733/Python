{
  "nbformat": 4,
  "nbformat_minor": 0,
  "metadata": {
    "colab": {
      "provenance": [],
      "authorship_tag": "ABX9TyO0J6hmAAgMoiwhRF5logDU",
      "include_colab_link": true
    },
    "kernelspec": {
      "name": "python3",
      "display_name": "Python 3"
    },
    "language_info": {
      "name": "python"
    }
  },
  "cells": [
    {
      "cell_type": "markdown",
      "metadata": {
        "id": "view-in-github",
        "colab_type": "text"
      },
      "source": [
        "<a href=\"https://colab.research.google.com/github/amritav733/Python/blob/main/NB1.ipynb\" target=\"_parent\"><img src=\"https://colab.research.google.com/assets/colab-badge.svg\" alt=\"Open In Colab\"/></a>"
      ]
    },
    {
      "cell_type": "code",
      "execution_count": 1,
      "metadata": {
        "colab": {
          "base_uri": "https://localhost:8080/"
        },
        "id": "4p0NKTWpX81T",
        "outputId": "8ff178a2-1e5e-452b-c18c-673ebed5bbd6"
      },
      "outputs": [
        {
          "output_type": "stream",
          "name": "stdout",
          "text": [
            "Hello, This is my first Python notebook.\n"
          ]
        }
      ],
      "source": [
        "print(\"Hello, This is my first Python notebook.\")"
      ]
    },
    {
      "cell_type": "code",
      "source": [
        "print(\"My brother's name is Dr.Harsh Kasyap and he just got married in Feb\")"
      ],
      "metadata": {
        "colab": {
          "base_uri": "https://localhost:8080/"
        },
        "id": "U1kkqifjbwN5",
        "outputId": "000f293e-384e-48f6-c9e5-f360367fece1"
      },
      "execution_count": 5,
      "outputs": [
        {
          "output_type": "stream",
          "name": "stdout",
          "text": [
            "My brother's name is Dr.Harsh Kasyap and he just got married in Feb\n"
          ]
        }
      ]
    }
  ]
}