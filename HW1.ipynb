{
  "nbformat": 4,
  "nbformat_minor": 0,
  "metadata": {
    "colab": {
      "provenance": [],
      "authorship_tag": "ABX9TyNAKfpCAh7UpKXItqKjee27",
      "include_colab_link": true
    },
    "kernelspec": {
      "name": "python3",
      "display_name": "Python 3"
    },
    "language_info": {
      "name": "python"
    }
  },
  "cells": [
    {
      "cell_type": "markdown",
      "metadata": {
        "id": "view-in-github",
        "colab_type": "text"
      },
      "source": [
        "<a href=\"https://colab.research.google.com/github/amritav733/Python/blob/main/HW1.ipynb\" target=\"_parent\"><img src=\"https://colab.research.google.com/assets/colab-badge.svg\" alt=\"Open In Colab\"/></a>"
      ]
    },
    {
      "cell_type": "code",
      "execution_count": null,
      "metadata": {
        "colab": {
          "base_uri": "https://localhost:8080/"
        },
        "id": "WajKw6P14ZQF",
        "outputId": "83661706-f6f2-44e1-b6ab-e3c05f9f4d40"
      },
      "outputs": [
        {
          "output_type": "stream",
          "name": "stdout",
          "text": [
            "Hello World\n"
          ]
        }
      ],
      "source": [
        "print(\"Hello World\")"
      ]
    },
    {
      "cell_type": "code",
      "source": [
        "print(\"\"\"\"\"Hello\"\"\"\"\")"
      ],
      "metadata": {
        "id": "Kta9uLuUmDPG",
        "outputId": "781d94d6-b404-43f2-e669-146254b727f6",
        "colab": {
          "base_uri": "https://localhost:8080/"
        }
      },
      "execution_count": 2,
      "outputs": [
        {
          "output_type": "stream",
          "name": "stdout",
          "text": [
            "\"\"Hello\n"
          ]
        }
      ]
    },
    {
      "cell_type": "code",
      "source": [
        "print(0o10)"
      ],
      "metadata": {
        "id": "bqrnAbhpiTxg",
        "outputId": "a69b1ea8-e014-4cc9-9974-d21744ab2f41",
        "colab": {
          "base_uri": "https://localhost:8080/"
        }
      },
      "execution_count": null,
      "outputs": [
        {
          "output_type": "stream",
          "name": "stdout",
          "text": [
            "8\n"
          ]
        }
      ]
    },
    {
      "cell_type": "code",
      "source": [
        "print(3)"
      ],
      "metadata": {
        "colab": {
          "base_uri": "https://localhost:8080/"
        },
        "id": "uExNVUtq4lo-",
        "outputId": "c132b24e-35b8-41da-c8f7-704165837947"
      },
      "execution_count": null,
      "outputs": [
        {
          "output_type": "stream",
          "name": "stdout",
          "text": [
            "3\n"
          ]
        }
      ]
    },
    {
      "cell_type": "code",
      "source": [
        "print(0.92625)"
      ],
      "metadata": {
        "colab": {
          "base_uri": "https://localhost:8080/"
        },
        "id": "av71JjA24rOA",
        "outputId": "d1f52a06-5d0e-43fb-c2a5-943cb48faec1"
      },
      "execution_count": null,
      "outputs": [
        {
          "output_type": "stream",
          "name": "stdout",
          "text": [
            "0.92625\n"
          ]
        }
      ]
    },
    {
      "cell_type": "code",
      "source": [
        "print(\"k\")"
      ],
      "metadata": {
        "colab": {
          "base_uri": "https://localhost:8080/"
        },
        "id": "RrIZZxb944U1",
        "outputId": "0e934f41-1272-4295-d75d-43ac607121ca"
      },
      "execution_count": null,
      "outputs": [
        {
          "output_type": "stream",
          "name": "stdout",
          "text": [
            "k\n"
          ]
        }
      ]
    },
    {
      "cell_type": "code",
      "source": [
        "print(\"Hiiii\")\n",
        "print(\"This is the line with double quotes\")\n",
        "name = \"Amrit\"\n",
        "print(name)"
      ],
      "metadata": {
        "colab": {
          "base_uri": "https://localhost:8080/"
        },
        "id": "xixRNHSX5FAy",
        "outputId": "03e3440e-2361-4a20-b388-cb5df10ec4a9"
      },
      "execution_count": null,
      "outputs": [
        {
          "output_type": "stream",
          "name": "stdout",
          "text": [
            "Hiiii\n",
            "This is the line with double quotes\n",
            "Amrit\n"
          ]
        }
      ]
    },
    {
      "cell_type": "code",
      "source": [
        "print(name)"
      ],
      "metadata": {
        "colab": {
          "base_uri": "https://localhost:8080/"
        },
        "id": "9tn-5H346CAI",
        "outputId": "9c74ce6a-a7b5-4305-ed36-bfd3d7bfdde0"
      },
      "execution_count": null,
      "outputs": [
        {
          "output_type": "stream",
          "name": "stdout",
          "text": [
            "Amrit\n"
          ]
        }
      ]
    },
    {
      "cell_type": "code",
      "source": [
        "print(\"HI\", name)"
      ],
      "metadata": {
        "colab": {
          "base_uri": "https://localhost:8080/"
        },
        "id": "2aXKj_YD6Pq3",
        "outputId": "8359d8cd-334e-4073-a395-18963618c6b9"
      },
      "execution_count": null,
      "outputs": [
        {
          "output_type": "stream",
          "name": "stdout",
          "text": [
            "HI Amrit\n"
          ]
        }
      ]
    },
    {
      "cell_type": "code",
      "source": [
        "number_8 = 8\n",
        "my_name = \"Amrit\"\n",
        "the_total = number_8 + 6\n",
        "first_second_name = \"Amrit Anand\"\n",
        "greeting = \"Good Morning!\"\n",
        "print(greeting,\",\",first_second_name)\n",
        "print(the_total)\n",
        "print(\"My age is \", the_total)\n",
        "print(my_name)"
      ],
      "metadata": {
        "colab": {
          "base_uri": "https://localhost:8080/"
        },
        "id": "XqetnJs97KVA",
        "outputId": "e177d916-1427-41f2-d01e-df0943a35dea"
      },
      "execution_count": null,
      "outputs": [
        {
          "output_type": "stream",
          "name": "stdout",
          "text": [
            "Good Morning! , Amrit Anand\n",
            "14\n",
            "My age is  14\n",
            "Amrit\n"
          ]
        }
      ]
    },
    {
      "cell_type": "code",
      "source": [
        "car = \"Nissan\"\n",
        "print(car)"
      ],
      "metadata": {
        "colab": {
          "base_uri": "https://localhost:8080/"
        },
        "id": "vDVzlML48Y-a",
        "outputId": "9a29d4e4-331c-4170-ad86-cbca29c3fce5"
      },
      "execution_count": null,
      "outputs": [
        {
          "output_type": "stream",
          "name": "stdout",
          "text": [
            "Nissan\n"
          ]
        }
      ]
    },
    {
      "cell_type": "code",
      "source": [
        "print(\"Hello\"+\"World\")"
      ],
      "metadata": {
        "colab": {
          "base_uri": "https://localhost:8080/"
        },
        "id": "LUUGUksf8lRu",
        "outputId": "e415f505-3bca-4a07-e9b7-546f0ae812db"
      },
      "execution_count": null,
      "outputs": [
        {
          "output_type": "stream",
          "name": "stdout",
          "text": [
            "HelloWorld\n"
          ]
        }
      ]
    },
    {
      "cell_type": "code",
      "source": [
        "print(\"Hello\"+\" \"+\"World\")"
      ],
      "metadata": {
        "colab": {
          "base_uri": "https://localhost:8080/"
        },
        "id": "x3asd7oS9ABm",
        "outputId": "a2da42f2-9e9a-4d0a-e795-86f607572549"
      },
      "execution_count": null,
      "outputs": [
        {
          "output_type": "stream",
          "name": "stdout",
          "text": [
            "Hello World\n"
          ]
        }
      ]
    },
    {
      "cell_type": "code",
      "source": [
        "print(name)"
      ],
      "metadata": {
        "colab": {
          "base_uri": "https://localhost:8080/"
        },
        "id": "_TCoQDkH9SU0",
        "outputId": "aeacb9ed-808b-4179-ce9b-f5a6d5e26b1f"
      },
      "execution_count": null,
      "outputs": [
        {
          "output_type": "stream",
          "name": "stdout",
          "text": [
            "Amrit\n"
          ]
        }
      ]
    },
    {
      "cell_type": "code",
      "source": [
        "age = 14\n",
        "print(age)"
      ],
      "metadata": {
        "colab": {
          "base_uri": "https://localhost:8080/"
        },
        "id": "AlDa9qzKFBKG",
        "outputId": "09c9f43a-7237-4246-d941-5d9c40cae795"
      },
      "execution_count": null,
      "outputs": [
        {
          "output_type": "stream",
          "name": "stdout",
          "text": [
            "14\n"
          ]
        }
      ]
    },
    {
      "cell_type": "code",
      "source": [
        "print(type(age))"
      ],
      "metadata": {
        "colab": {
          "base_uri": "https://localhost:8080/"
        },
        "id": "ZzgwhbhsF4hW",
        "outputId": "122d9c86-9d5c-4f4e-ec23-6b157a44234b"
      },
      "execution_count": null,
      "outputs": [
        {
          "output_type": "stream",
          "name": "stdout",
          "text": [
            "<class 'int'>\n"
          ]
        }
      ]
    },
    {
      "cell_type": "code",
      "source": [
        "print(\"My name is\", name , greeting , \"My age is \", the_total)"
      ],
      "metadata": {
        "colab": {
          "base_uri": "https://localhost:8080/"
        },
        "id": "NTJOKzk4G2hX",
        "outputId": "9a728136-6bb2-4c98-d841-45ee9f60116a"
      },
      "execution_count": null,
      "outputs": [
        {
          "output_type": "stream",
          "name": "stdout",
          "text": [
            "My name is Amrit Good Morning! My age is  14\n"
          ]
        }
      ]
    }
  ]
}